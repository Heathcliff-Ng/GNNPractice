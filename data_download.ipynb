{
 "cells": [
  {
   "cell_type": "code",
   "id": "initial_id",
   "metadata": {
    "collapsed": true,
    "ExecuteTime": {
     "end_time": "2025-04-20T03:52:09.450245Z",
     "start_time": "2025-04-20T03:52:08.065227Z"
    }
   },
   "source": [
    "import pysodb\n",
    "import pandas as pd\n",
    "from scipy import sparse"
   ],
   "outputs": [],
   "execution_count": 1
  },
  {
   "metadata": {
    "ExecuteTime": {
     "end_time": "2025-04-20T03:52:11.175170Z",
     "start_time": "2025-04-20T03:52:10.850890Z"
    }
   },
   "cell_type": "code",
   "source": [
    "sodb = pysodb.SODB()\n",
    "adata = sodb.load_experiment('Booeshaghi2021Isoform', 'mouse2_slice229')"
   ],
   "id": "7d4331ab46b1366b",
   "outputs": [
    {
     "name": "stdout",
     "output_type": "stream",
     "text": [
      "load experiment[mouse2_slice229] in dataset[Booeshaghi2021Isoform]\n"
     ]
    }
   ],
   "execution_count": 2
  },
  {
   "metadata": {
    "ExecuteTime": {
     "end_time": "2025-04-20T03:17:02.671632Z",
     "start_time": "2025-04-20T03:17:02.663940Z"
    }
   },
   "cell_type": "code",
   "source": "adata",
   "id": "b102132c2dd76e08",
   "outputs": [
    {
     "data": {
      "text/plain": [
       "AnnData object with n_obs × n_vars = 5083 × 254\n",
       "    obs: 'fovID', 'fov_x', 'fov_y', 'volume', 'center_x', 'center_y', 'slice_id', 'sample_id', 'label', 'subclass', 'class_label', 'cell_id', 'leiden'\n",
       "    var: 'n_iso'\n",
       "    uns: 'leiden', 'leiden_colors', 'moranI', 'neighbors', 'pca', 'spatial_neighbors', 'umap'\n",
       "    obsm: 'X_pca', 'X_umap', 'spatial'\n",
       "    varm: 'PCs'\n",
       "    obsp: 'connectivities', 'distances', 'spatial_connectivities', 'spatial_distances'"
      ]
     },
     "execution_count": 8,
     "metadata": {},
     "output_type": "execute_result"
    }
   ],
   "execution_count": 8
  },
  {
   "metadata": {
    "ExecuteTime": {
     "end_time": "2025-04-20T03:52:13.613253Z",
     "start_time": "2025-04-20T03:52:12.881897Z"
    }
   },
   "cell_type": "code",
   "source": [
    "# 1. 保存空间坐标（obsm['spatial']）\n",
    "# 提取 spatial 数组并构建 DataFrame\n",
    "spatial_arr = adata.obsm['spatial']\n",
    "\n",
    "# 计算最小值\n",
    "x_min = spatial_arr[:, 0].min()\n",
    "y_min = spatial_arr[:, 1].min()\n",
    "\n",
    "# 平移坐标\n",
    "spatial_shifted = spatial_arr - [x_min, y_min]\n",
    "\n",
    "df_spatial = pd.DataFrame({\n",
    "    'CELL_ID': adata.obs['cell_id'].values,\n",
    "    'X': spatial_shifted[:, 0],\n",
    "    'Y': spatial_shifted[:, 1]\n",
    "})\n",
    "# 写出 CSV\n",
    "df_spatial.to_csv('data/cortex/adata_spatial.csv', index=False)\n",
    "print(\"Saved spatial → adata_spatial.csv\")\n",
    "\n",
    "# 2. 保存细胞子类（obs['subclass']）\n",
    "df_subclass = adata.obs[['cell_id', 'subclass']].copy()\n",
    "df_subclass.columns = ['CELL_ID', 'SUBCLASS']\n",
    "df_subclass.to_csv('data/cortex/adata_subclass.csv', index=False)\n",
    "print(\"Saved subclass → adata_subclass.csv\")\n",
    "\n",
    "# 3. 保存基因表达矩阵（adata.X）\n",
    "# 先处理稀疏矩阵\n",
    "X = adata.X\n",
    "if sparse.issparse(X):\n",
    "    X = X.toarray()\n",
    "# 构建 DataFrame：列名为 var_names，行索引加上 CELL_ID\n",
    "df_expr = pd.DataFrame(X, columns=adata.var_names)\n",
    "df_expr.insert(0, 'CELL_ID', adata.obs['cell_id'].values)\n",
    "# 写出 CSV\n",
    "df_expr.to_csv('data/cortex/adata_expression.csv', index=False)\n",
    "print(\"Saved expression matrix → adata_expression.csv\")"
   ],
   "id": "1675c78e9d0842ae",
   "outputs": [
    {
     "name": "stdout",
     "output_type": "stream",
     "text": [
      "Saved spatial → adata_spatial.csv\n",
      "Saved subclass → adata_subclass.csv\n",
      "Saved expression matrix → adata_expression.csv\n"
     ]
    }
   ],
   "execution_count": 3
  },
  {
   "metadata": {},
   "cell_type": "code",
   "outputs": [],
   "execution_count": null,
   "source": "",
   "id": "5ca326cbbb72bcbd"
  }
 ],
 "metadata": {
  "kernelspec": {
   "display_name": "Python 3",
   "language": "python",
   "name": "python3"
  },
  "language_info": {
   "codemirror_mode": {
    "name": "ipython",
    "version": 2
   },
   "file_extension": ".py",
   "mimetype": "text/x-python",
   "name": "python",
   "nbconvert_exporter": "python",
   "pygments_lexer": "ipython2",
   "version": "2.7.6"
  }
 },
 "nbformat": 4,
 "nbformat_minor": 5
}
