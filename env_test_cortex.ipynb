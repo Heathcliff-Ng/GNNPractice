{
 "cells": [
  {
   "cell_type": "code",
   "id": "initial_id",
   "metadata": {
    "collapsed": true,
    "ExecuteTime": {
     "end_time": "2025-04-28T02:18:11.036211Z",
     "start_time": "2025-04-28T02:18:10.625408Z"
    }
   },
   "source": [
    "from env_cortex_graph import SpatOmics_graph\n",
    "from args import get_dqn_args\n",
    "import random"
   ],
   "outputs": [],
   "execution_count": 1
  },
  {
   "metadata": {
    "ExecuteTime": {
     "end_time": "2025-04-28T02:18:12.614341Z",
     "start_time": "2025-04-28T02:18:12.609735Z"
    }
   },
   "cell_type": "code",
   "source": [
    "args = get_dqn_args()\n",
    "\n",
    "args.rs = 100\n",
    "\n",
    "exps = ['mouse2_slice229']\n"
   ],
   "id": "268779e818e69d66",
   "outputs": [],
   "execution_count": 2
  },
  {
   "metadata": {
    "ExecuteTime": {
     "end_time": "2025-04-28T02:18:13.930358Z",
     "start_time": "2025-04-28T02:18:13.437962Z"
    }
   },
   "cell_type": "code",
   "source": [
    "exp = random.choice(exps)\n",
    "env = SpatOmics_graph(args, exp)\n",
    "env.reset()"
   ],
   "id": "99121ca75ce44040",
   "outputs": [
    {
     "name": "stdout",
     "output_type": "stream",
     "text": [
      "Time taken to construct the graph: 0.34 seconds\n"
     ]
    },
    {
     "data": {
      "text/plain": [
       "(array([[0., 0., 0., 0., 0., 0., 0., 0., 0., 0., 0., 0., 0., 0., 0., 0.,\n",
       "         0., 0., 0., 0., 0., 1., 0., 0.],\n",
       "        [0., 0., 0., 0., 0., 0., 0., 0., 0., 0., 0., 0., 0., 0., 0., 0.,\n",
       "         0., 0., 0., 0., 0., 1., 0., 0.],\n",
       "        [0., 0., 0., 0., 0., 0., 0., 0., 0., 0., 0., 0., 0., 0., 0., 0.,\n",
       "         0., 0., 0., 0., 0., 1., 0., 0.]]),\n",
       " array([[0, 0, 0, 1, 1, 2],\n",
       "        [0, 1, 2, 1, 2, 2]]),\n",
       " array([1.        , 0.        , 0.        , 0.        , 0.        ,\n",
       "        0.05714286, 0.        , 0.        , 0.        , 1.        ,\n",
       "        1.        , 1.        , 1.        , 1.        , 1.        ,\n",
       "        1.        , 1.        ]))"
      ]
     },
     "execution_count": 3,
     "metadata": {},
     "output_type": "execute_result"
    }
   ],
   "execution_count": 3
  },
  {
   "metadata": {
    "ExecuteTime": {
     "end_time": "2025-04-28T02:18:15.602020Z",
     "start_time": "2025-04-28T02:18:15.540893Z"
    }
   },
   "cell_type": "code",
   "source": "env.step(0)",
   "id": "cffcab7deaefc5d8",
   "outputs": [
    {
     "name": "stdout",
     "output_type": "stream",
     "text": [
      "Time taken to construct the graph: 0.06 seconds\n"
     ]
    },
    {
     "data": {
      "text/plain": [
       "(array([[0., 0., 0., 0., 0., 0., 0., 0., 0., 0., 0., 0., 0., 0., 0., 0.,\n",
       "         0., 0., 0., 0., 0., 1., 0., 0.],\n",
       "        [0., 0., 0., 0., 0., 0., 0., 0., 0., 0., 0., 0., 0., 0., 0., 0.,\n",
       "         0., 0., 0., 0., 0., 1., 0., 0.],\n",
       "        [0., 0., 0., 0., 0., 0., 0., 0., 0., 0., 0., 0., 0., 0., 0., 1.,\n",
       "         0., 0., 0., 0., 0., 0., 0., 0.],\n",
       "        [0., 0., 0., 0., 0., 0., 0., 0., 0., 0., 0., 1., 0., 0., 0., 0.,\n",
       "         0., 0., 0., 0., 0., 0., 0., 0.],\n",
       "        [0., 0., 0., 0., 0., 0., 0., 0., 0., 0., 0., 0., 0., 0., 0., 0.,\n",
       "         0., 0., 0., 0., 0., 1., 0., 0.]]),\n",
       " array([[0, 0, 0, 1, 1, 1, 1, 2, 2, 3, 3, 4],\n",
       "        [0, 3, 4, 1, 2, 3, 4, 2, 3, 3, 4, 4]]),\n",
       " array([1.        , 0.        , 0.        , 0.        , 0.        ,\n",
       "        0.12612613, 0.        , 1.33333333, 0.16216216, 1.        ,\n",
       "        1.        , 1.        , 1.        , 1.        , 1.        ,\n",
       "        2.        , 2.        ]),\n",
       " 0.0,\n",
       " False,\n",
       " 0)"
      ]
     },
     "execution_count": 4,
     "metadata": {},
     "output_type": "execute_result"
    }
   ],
   "execution_count": 4
  },
  {
   "metadata": {
    "ExecuteTime": {
     "end_time": "2025-04-28T02:18:34.679428Z",
     "start_time": "2025-04-28T02:18:34.622693Z"
    }
   },
   "cell_type": "code",
   "source": "env.step(4)",
   "id": "fb7ca811021be30b",
   "outputs": [
    {
     "name": "stdout",
     "output_type": "stream",
     "text": [
      "Time taken to construct the graph: 0.05 seconds\n"
     ]
    },
    {
     "data": {
      "text/plain": [
       "(array([[0., 0., 0., 0., 0., 0., 0., 0., 0., 0., 0., 0., 0., 0., 0., 0.,\n",
       "         0., 0., 0., 0., 0., 1., 0., 0.],\n",
       "        [0., 0., 0., 0., 0., 0., 0., 0., 0., 0., 0., 0., 0., 0., 0., 0.,\n",
       "         0., 1., 0., 0., 0., 0., 0., 0.],\n",
       "        [0., 0., 0., 0., 0., 0., 0., 0., 0., 0., 0., 0., 0., 0., 0., 0.,\n",
       "         0., 0., 0., 0., 0., 1., 0., 0.],\n",
       "        [0., 0., 0., 0., 0., 0., 0., 0., 0., 0., 0., 0., 0., 0., 0., 0.,\n",
       "         0., 0., 0., 0., 0., 1., 0., 0.],\n",
       "        [0., 0., 0., 0., 0., 0., 0., 0., 0., 0., 0., 0., 0., 1., 0., 0.,\n",
       "         0., 0., 0., 0., 0., 0., 0., 0.],\n",
       "        [0., 0., 0., 0., 0., 0., 0., 0., 0., 0., 0., 0., 0., 0., 0., 0.,\n",
       "         0., 0., 0., 0., 0., 1., 0., 0.]]),\n",
       " array([[0, 0, 0, 0, 1, 1, 1, 2, 2, 2, 3, 3, 3, 4, 4, 5],\n",
       "        [0, 2, 3, 5, 1, 4, 5, 2, 3, 4, 3, 4, 5, 4, 5, 5]]),\n",
       " array([1.        , 0.        , 0.        , 0.        , 0.28571429,\n",
       "        0.0952381 , 0.28571429, 3.        , 0.11428571, 2.        ,\n",
       "        3.        , 3.        , 2.        , 3.        , 2.        ,\n",
       "        3.        , 3.        ]),\n",
       " -7.309037719999988,\n",
       " False,\n",
       " 0)"
      ]
     },
     "execution_count": 5,
     "metadata": {},
     "output_type": "execute_result"
    }
   ],
   "execution_count": 5
  },
  {
   "metadata": {
    "ExecuteTime": {
     "end_time": "2024-12-08T04:13:56.821637Z",
     "start_time": "2024-12-08T04:13:56.820286Z"
    }
   },
   "cell_type": "code",
   "source": "",
   "id": "640bceb843f4f914",
   "outputs": [],
   "execution_count": 5
  }
 ],
 "metadata": {
  "kernelspec": {
   "display_name": "Python 3",
   "language": "python",
   "name": "python3"
  },
  "language_info": {
   "codemirror_mode": {
    "name": "ipython",
    "version": 2
   },
   "file_extension": ".py",
   "mimetype": "text/x-python",
   "name": "python",
   "nbconvert_exporter": "python",
   "pygments_lexer": "ipython2",
   "version": "2.7.6"
  }
 },
 "nbformat": 4,
 "nbformat_minor": 5
}
